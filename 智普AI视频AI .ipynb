{
 "cells": [
  {
   "cell_type": "code",
   "execution_count": 1,
   "id": "6efe365b",
   "metadata": {},
   "outputs": [
    {
     "name": "stdout",
     "output_type": "stream",
     "text": [
      "Collecting zhipuai\n",
      "  Downloading zhipuai-2.1.5.20230904-py3-none-any.whl (104 kB)\n",
      "     ------------------------------------ 105.0/105.0 kB 337.1 kB/s eta 0:00:00\n",
      "Collecting cachetools>=4.2.2\n",
      "  Downloading cachetools-5.5.0-py3-none-any.whl (9.5 kB)\n",
      "Collecting pydantic-core>=2.14.6\n",
      "  Downloading pydantic_core-2.27.0-cp39-none-win_amd64.whl (2.0 MB)\n",
      "     ---------------------------------------- 2.0/2.0 MB 1.3 MB/s eta 0:00:00\n",
      "Collecting httpx>=0.23.0\n",
      "  Downloading httpx-0.27.2-py3-none-any.whl (76 kB)\n",
      "     --------------------------------------- 76.4/76.4 kB 63.2 kB/s eta 0:00:00\n",
      "Collecting pydantic<3.0,>=1.9.0\n",
      "  Downloading pydantic-2.9.2-py3-none-any.whl (434 kB)\n",
      "     ------------------------------------- 434.9/434.9 kB 46.1 kB/s eta 0:00:00\n",
      "Collecting pyjwt<2.9.0,>=2.8.0\n",
      "  Downloading PyJWT-2.8.0-py3-none-any.whl (22 kB)\n",
      "Requirement already satisfied: anyio in c:\\programdata\\anaconda3\\lib\\site-packages (from httpx>=0.23.0->zhipuai) (3.5.0)\n",
      "Requirement already satisfied: idna in c:\\programdata\\anaconda3\\lib\\site-packages (from httpx>=0.23.0->zhipuai) (3.3)\n",
      "Collecting httpcore==1.*\n",
      "  Downloading httpcore-1.0.7-py3-none-any.whl (78 kB)\n",
      "     --------------------------------------- 78.6/78.6 kB 93.1 kB/s eta 0:00:00\n",
      "Requirement already satisfied: certifi in c:\\programdata\\anaconda3\\lib\\site-packages (from httpx>=0.23.0->zhipuai) (2022.9.14)\n",
      "Requirement already satisfied: sniffio in c:\\programdata\\anaconda3\\lib\\site-packages (from httpx>=0.23.0->zhipuai) (1.2.0)\n",
      "Collecting h11<0.15,>=0.13\n",
      "  Downloading h11-0.14.0-py3-none-any.whl (58 kB)\n",
      "     -------------------------------------- 58.3/58.3 kB 102.6 kB/s eta 0:00:00\n",
      "Collecting pydantic-core>=2.14.6\n",
      "  Downloading pydantic_core-2.23.4-cp39-none-win_amd64.whl (1.9 MB)\n",
      "     ---------------------------------------- 1.9/1.9 MB 63.4 kB/s eta 0:00:00\n",
      "Collecting typing-extensions>=4.6.1\n",
      "  Downloading typing_extensions-4.12.2-py3-none-any.whl (37 kB)\n",
      "Collecting annotated-types>=0.6.0\n",
      "  Downloading annotated_types-0.7.0-py3-none-any.whl (13 kB)\n",
      "Installing collected packages: typing-extensions, pyjwt, h11, cachetools, annotated-types, pydantic-core, httpcore, pydantic, httpx, zhipuai\n",
      "  Attempting uninstall: typing-extensions\n",
      "    Found existing installation: typing_extensions 4.3.0\n",
      "    Uninstalling typing_extensions-4.3.0:\n",
      "      Successfully uninstalled typing_extensions-4.3.0\n",
      "  Attempting uninstall: pyjwt\n",
      "    Found existing installation: PyJWT 2.4.0\n",
      "    Uninstalling PyJWT-2.4.0:\n",
      "      Successfully uninstalled PyJWT-2.4.0\n",
      "Successfully installed annotated-types-0.7.0 cachetools-5.5.0 h11-0.14.0 httpcore-1.0.7 httpx-0.27.2 pydantic-2.9.2 pydantic-core-2.23.4 pyjwt-2.8.0 typing-extensions-4.12.2 zhipuai-2.1.5.20230904\n",
      "Note: you may need to restart the kernel to use updated packages.\n"
     ]
    },
    {
     "name": "stderr",
     "output_type": "stream",
     "text": [
      "  WARNING: Retrying (Retry(total=4, connect=None, read=None, redirect=None, status=None)) after connection broken by 'ConnectTimeoutError(<pip._vendor.urllib3.connection.HTTPSConnection object at 0x0000021608D9A430>, 'Connection to files.pythonhosted.org timed out. (connect timeout=15)')': /packages/10/28/5c1efbfb560e64458b22e0442279af8bde673edcb096762a3aeccee3a8ec/zhipuai-2.1.5.20230904-py3-none-any.whl\n"
     ]
    }
   ],
   "source": [
    "pip install zhipuai"
   ]
  },
  {
   "cell_type": "code",
   "execution_count": null,
   "id": "cb932837",
   "metadata": {},
   "outputs": [
    {
     "name": "stdout",
     "output_type": "stream",
     "text": [
      "通常来说，视频理解的响应时间较长，需要等待数十秒.....\n"
     ]
    }
   ],
   "source": [
    "import os\n",
    "from zhipuai import ZhipuAI\n",
    "import base64\n",
    "os.environ[\"ZHIPUAI_API_KEY\"]=\"d19e8520c7a832879bd237759759696c.wVGGRJznCmxhJMZx\"\n",
    "client=ZhipuAI()\n",
    "\n",
    "video_path =\"SX.mp4\"\n",
    "with open(video_path,'rb') as video_file:\n",
    "    video_base = base64.b64encode(video_file.read( )).decode('utf-8') \n",
    "print(\"通常来说，视频理解的响应时间较长，需要等待数十秒.....\")\n",
    "response =client.chat.completions.create(\n",
    "    model=\"glm-4v-plus\",\n",
    "    temperature=0.0,\n",
    "    top_p=0,\n",
    "    \n",
    "    messages=[{\n",
    "        \"role\":\"user\",\n",
    "        \"content\":[{\n",
    "            \"type\" : \"video_url\",\n",
    "        \"video_url\": { \"url\" : video_base}\n",
    "        },{\n",
    "            \"type\": \"text\",\n",
    "            \"text\":\"描述一下整个视频的内容？\"\n",
    "        }]\n",
    "    }]\n",
    ")\n",
    "print(response.choices[0].message)"
   ]
  },
  {
   "cell_type": "code",
   "execution_count": null,
   "id": "e12fae3e",
   "metadata": {},
   "outputs": [],
   "source": []
  }
 ],
 "metadata": {
  "kernelspec": {
   "display_name": "Python 3 (ipykernel)",
   "language": "python",
   "name": "python3"
  },
  "language_info": {
   "codemirror_mode": {
    "name": "ipython",
    "version": 3
   },
   "file_extension": ".py",
   "mimetype": "text/x-python",
   "name": "python",
   "nbconvert_exporter": "python",
   "pygments_lexer": "ipython3",
   "version": "3.9.13"
  }
 },
 "nbformat": 4,
 "nbformat_minor": 5
}
